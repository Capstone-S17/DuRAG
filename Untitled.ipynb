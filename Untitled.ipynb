{
 "cells": [
  {
   "cell_type": "code",
   "execution_count": null,
   "id": "8bcb0454-6049-40e6-b4c0-41fc59ed86e1",
   "metadata": {},
   "outputs": [],
   "source": [
    "from src.rds import db\n",
    "with db.get_cursor() as cur:\n",
    "    cur.execute(\"\"\"SELECT question, pdf_document_name FROM \"QUESTION_BANK\" \"\"\")\n",
    "    questions = cur.fetchall()"
   ]
  },
  {
   "cell_type": "code",
   "execution_count": null,
   "id": "6f50bbf4-dbdd-44a1-8931-d798af16f98d",
   "metadata": {},
   "outputs": [],
   "source": [
    "for q in questions:\n",
    "    print(q[0])\n",
    "            "
   ]
  },
  {
   "cell_type": "code",
   "execution_count": null,
   "id": "3ab9da13-c363-48fd-bef4-90e1daa3b920",
   "metadata": {},
   "outputs": [],
   "source": [
    "from rag_swr import swr_pipeline\n",
    "import os\n"
   ]
  },
  {
   "cell_type": "code",
   "execution_count": null,
   "id": "9a58a045-c677-4426-ba50-daf66681ce10",
   "metadata": {},
   "outputs": [],
   "source": [
    "swr_pipeline(q[0])"
   ]
  },
  {
   "cell_type": "code",
   "execution_count": null,
   "id": "e8e44da0-fe98-475a-9c64-170317abcdb4",
   "metadata": {},
   "outputs": [],
   "source": [
    "os.env"
   ]
  },
  {
   "cell_type": "code",
   "execution_count": null,
   "id": "133549f2-6a04-4559-bd03-d2e17396a002",
   "metadata": {},
   "outputs": [],
   "source": [
    "from litellm import completion\n",
    "import os\n",
    "\n",
    "## set ENV variables\n",
    "\n",
    "response = completion(\n",
    "  model=\"vertex_ai/gemini-pro\", \n",
    "  messages=[{ \"content\": \"Hello, how are you?\",\"role\": \"user\"}]\n",
    ")"
   ]
  },
  {
   "cell_type": "code",
   "execution_count": null,
   "id": "796c15f3-08ca-4203-8836-02f67f6bb613",
   "metadata": {},
   "outputs": [],
   "source": [
    "response"
   ]
  },
  {
   "cell_type": "code",
   "execution_count": null,
   "id": "0fd90c26-6209-406f-9043-4ccb4511fe34",
   "metadata": {},
   "outputs": [],
   "source": [
    "import os, litellm \n",
    "\n",
    "# set via env var\n",
    "\n",
    "\n",
    "### OR ###\n",
    "\n",
    "# set directly on module \n",
    "litellm.vertex_project = \"arched-forest-409209\" # Your Project ID`\n",
    "litellm.vertex_location = \"us-central1\""
   ]
  },
  {
   "cell_type": "code",
   "execution_count": null,
   "id": "f4db32de-ffa7-4e21-a926-4ade1b2ec0ea",
   "metadata": {},
   "outputs": [],
   "source": [
    "response = completion(\n",
    "  model=\"vertex_ai/<your-endpoint-id>\", \n",
    "  messages=[{ \"content\": \"Hello, how are you?\",\"role\": \"user\"}]\n",
    ")"
   ]
  },
  {
   "cell_type": "code",
   "execution_count": null,
   "id": "96d77875-cda5-4a0e-aa43-12d0794314b6",
   "metadata": {},
   "outputs": [],
   "source": [
    "# %load src/generator.py\n",
    "from vertexai.preview.generative_models import GenerativeModel, GenerationConfig\n",
    "import google.generativeai as genai\n",
    "import os\n",
    "import vertexai\n",
    "\n",
    "RAG_PROMPT = \"\"\"\n",
    "You are an expert in the field of finance and legal reasoning. \n",
    "Context information from multiple sources is below.\n",
    "---------------------\n",
    "{}\n",
    "---------------------\n",
    "Given the information from multiple sources and not prior knowledge, answer the query.\\\n",
    "If you are unsure, just say there is not enough information to answer the question.\n",
    "Query: {}\n",
    "\"\"\"\n",
    "\n",
    "QUERY_EXPANSION_PROMPT = \"\"\"\n",
    "You are an expert in the field of finance and legal reasoning for listed companies in Singapore \\\n",
    "(which may include multinational companies). Based on the following query, please provide a \\\n",
    "a more comprehensive query that can be used for semantic search.\n",
    "Original Query: {}\n",
    "\"\"\"\n",
    "\n",
    "QUERY_ENTITY_PROMPT = \"\"\"\n",
    "You are an expert in the field of finance and legal reasoning for listed companies in Singapore \\\n",
    "(which may include multinational companies). Based on the following query, please provide a \\\n",
    "list of entities that can be used for filtering documents. Look out for entities such as \\\n",
    "company names, people, locations, dates, events, and financial keywords.\n",
    "Query: {}\n",
    "\"\"\"\n",
    "\n",
    "QUERY_DECOMPOSITION_PROMPT = \"\"\"\n",
    "You are an expert in the field of finance and legal reasoning for listed companies in Singapore \\\n",
    "(which may include multinational companies). Based on the following query, please break it down to 3 to 5 \\\n",
    "smaller and more specific queries.\n",
    "\n",
    "---------------------\n",
    "For example, \"What was the financial performance of company X in 2020?\" can be broken down into:\n",
    "1. What was the revenue of Company X in 2020?\n",
    "2. What was the net income of Company X in 2020?\n",
    "3. What the debt of Company X in 2020?\n",
    "---------------------\n",
    "\n",
    "Query: {}\n",
    "\n",
    "\"\"\"\n",
    "\n",
    "\n",
    "class Generator:\n",
    "    def __init__(self, use_google_api=True):\n",
    "        \n",
    "        vertexai.init(project='1043867876565')\n",
    "\n",
    "        if use_google_api:\n",
    "            genai.configure(api_key=os.getenv(\"GOOGLE_API_KEY\"))\n",
    "        self.generation_config = GenerationConfig(\n",
    "            temperature=0.2, max_output_tokens=2048, top_p=0.8, top_k=40\n",
    "        )\n",
    "\n",
    "        self.gemini = GenerativeModel(\n",
    "            \"gemini-pro\", generation_config=self.generation_config\n",
    "        )\n",
    "        self.palm_bison = GenerativeModel(\n",
    "            \"chat-bison\", generation_config=self.generation_config\n",
    "        )\n",
    "\n",
    "    def response_synthesis(\n",
    "        self, retrieved_text: list, query: str, use_gemini=True\n",
    "    ) -> str:\n",
    "        if use_gemini:\n",
    "            out = self._gemini_generation(retrieved_text, query)\n",
    "        else:\n",
    "            out = self._palm_generation(retrieved_text, query)\n",
    "\n",
    "        return out[0]\n",
    "\n",
    "    def _gemini_generation(self, retrieved_text: list, query) -> str:\n",
    "        context_str = \"\"\n",
    "        for i in range(len(retrieved_text)):\n",
    "            chunk = str(i + 1) + \" \" + retrieved_text[i]\n",
    "            context_str += chunk\n",
    "\n",
    "        prompt = RAG_PROMPT.format(retrieved_text, query)\n",
    "\n",
    "        response = self.gemini.generate_content(prompt, stream=True)\n",
    "        out = []\n",
    "        for r in response:\n",
    "            out.append(r)\n",
    "            print(r.text, end=\"\")\n",
    "        return \" \".join(out)\n",
    "\n",
    "    def _palm_generation(self, retrieved_text: list, query) -> str:\n",
    "        context_str = \"\"\n",
    "        for i in range(len(retrieved_text)):\n",
    "            chunk = str(i + 1) + \" \" + retrieved_text[i]\n",
    "            context_str += chunk\n",
    "\n",
    "        prompt = RAG_PROMPT.format(retrieved_text, query)\n",
    "\n",
    "        response = self.palm_bison.generate_content(prompt, stream=True)\n",
    "        out = []\n",
    "\n",
    "        for r in response:\n",
    "            out.append(r)\n",
    "            print(r.text, end=\"\")\n",
    "        return \" \".join(out)\n",
    "\n",
    "    # def query_expansion(self, query: str) -> str:\n",
    "    #     prompt = QUERY_EXPANSION_PROMPT.format(query)\n",
    "    #     response = self.llm.generate_content(prompt)\n",
    "    #     return response[0].text\n"
   ]
  },
  {
   "cell_type": "code",
   "execution_count": null,
   "id": "c3509861-8dfc-4e9e-b889-0a54aac65c36",
   "metadata": {},
   "outputs": [],
   "source": [
    "import os\n",
    "os.environ['GOOGLE_APPLICATION_CREDENTIALS'] = 'arched-forest-409209-854f83e41ed5.json'\n",
    "g = Generator()"
   ]
  },
  {
   "cell_type": "code",
   "execution_count": null,
   "id": "e6f8d55e-36db-4cb2-a147-25d0d1bc640c",
   "metadata": {},
   "outputs": [],
   "source": [
    "class PipelineOutput:\n",
    "\n",
    "\n",
    "\n",
    "    def __init__(self"
   ]
  },
  {
   "cell_type": "code",
   "execution_count": 3,
   "id": "f2f86d3f-600d-4f45-af2c-4586f81a6a7d",
   "metadata": {},
   "outputs": [
    {
     "data": {
      "text/plain": [
       "<function rag_swr.swr_pipeline(query: str)>"
      ]
     },
     "execution_count": 3,
     "metadata": {},
     "output_type": "execute_result"
    }
   ],
   "source": [
    "pipeline"
   ]
  },
  {
   "cell_type": "code",
   "execution_count": 2,
   "id": "249cc12d-d03f-40ee-8f56-9bc520b645f3",
   "metadata": {},
   "outputs": [
    {
     "name": "stderr",
     "output_type": "stream",
     "text": [
      "Package litellm is installed but has a version conflict:\n",
      "\t(litellm 1.28.4 (/home/capstoners/DuRAG/.venv/lib/python3.11/site-packages), Requirement.parse('litellm<=1.24.0,>=1.11.1'))\n",
      "\n",
      "This package is optional for trulens_eval so this may not be a problem but if\n",
      "you need to use the related optional features and find there are errors, you\n",
      "will need to resolve the conflict:\n",
      "\n",
      "    ```bash\n",
      "    pip install 'litellm<=1.24.0,>=1.11.1'\n",
      "    ```\n",
      "\n",
      "If you are running trulens_eval in a notebook, you may need to restart the\n",
      "kernel after resolving the conflict. If your distribution is in a bad place\n",
      "beyond this package, you may need to reinstall trulens_eval so that all of the\n",
      "dependencies get installed and hopefully corrected:\n",
      "    \n",
      "    ```bash\n",
      "    pip uninstall -y trulens_eval\n",
      "    pip install trulens_eval\n",
      "    ```\n",
      "\n",
      "/home/capstoners/DuRAG/.venv/lib/python3.11/site-packages/pydantic/_internal/_config.py:272: PydanticDeprecatedSince20: Support for class-based `config` is deprecated, use ConfigDict instead. Deprecated in Pydantic V2.0 to be removed in V3.0. See Pydantic V2 Migration Guide at https://errors.pydantic.dev/2.6/migration/\n",
      "  warnings.warn(DEPRECATION_MESSAGE, DeprecationWarning)\n",
      "/home/capstoners/DuRAG/.venv/lib/python3.11/site-packages/litellm/proxy/_types.py:99: PydanticDeprecatedSince20: `pydantic.config.Extra` is deprecated, use literal values instead (e.g. `extra='allow'`). Deprecated in Pydantic V2.0 to be removed in V3.0. See Pydantic V2 Migration Guide at https://errors.pydantic.dev/2.6/migration/\n",
      "  extra = Extra.allow  # Allow extra fields\n",
      "/home/capstoners/DuRAG/.venv/lib/python3.11/site-packages/litellm/proxy/_types.py:102: PydanticDeprecatedSince20: Pydantic V1 style `@root_validator` validators are deprecated. You should migrate to Pydantic V2 style `@model_validator` validators, see the migration guide for more details. Deprecated in Pydantic V2.0 to be removed in V3.0. See Pydantic V2 Migration Guide at https://errors.pydantic.dev/2.6/migration/\n",
      "  @root_validator(pre=True)\n",
      "/home/capstoners/DuRAG/.venv/lib/python3.11/site-packages/litellm/proxy/_types.py:131: PydanticDeprecatedSince20: Pydantic V1 style `@root_validator` validators are deprecated. You should migrate to Pydantic V2 style `@model_validator` validators, see the migration guide for more details. Deprecated in Pydantic V2.0 to be removed in V3.0. See Pydantic V2 Migration Guide at https://errors.pydantic.dev/2.6/migration/\n",
      "  @root_validator(pre=True)\n",
      "/home/capstoners/DuRAG/.venv/lib/python3.11/site-packages/litellm/proxy/_types.py:176: PydanticDeprecatedSince20: Pydantic V1 style `@root_validator` validators are deprecated. You should migrate to Pydantic V2 style `@model_validator` validators, see the migration guide for more details. Deprecated in Pydantic V2.0 to be removed in V3.0. See Pydantic V2 Migration Guide at https://errors.pydantic.dev/2.6/migration/\n",
      "  @root_validator(pre=True)\n",
      "/home/capstoners/DuRAG/.venv/lib/python3.11/site-packages/litellm/proxy/_types.py:231: PydanticDeprecatedSince20: Pydantic V1 style `@root_validator` validators are deprecated. You should migrate to Pydantic V2 style `@model_validator` validators, see the migration guide for more details. Deprecated in Pydantic V2.0 to be removed in V3.0. See Pydantic V2 Migration Guide at https://errors.pydantic.dev/2.6/migration/\n",
      "  @root_validator(pre=True)\n",
      "/home/capstoners/DuRAG/.venv/lib/python3.11/site-packages/litellm/proxy/_types.py:243: PydanticDeprecatedSince20: Pydantic V1 style `@root_validator` validators are deprecated. You should migrate to Pydantic V2 style `@model_validator` validators, see the migration guide for more details. Deprecated in Pydantic V2.0 to be removed in V3.0. See Pydantic V2 Migration Guide at https://errors.pydantic.dev/2.6/migration/\n",
      "  @root_validator(pre=True)\n",
      "/home/capstoners/DuRAG/.venv/lib/python3.11/site-packages/litellm/proxy/_types.py:287: PydanticDeprecatedSince20: Pydantic V1 style `@root_validator` validators are deprecated. You should migrate to Pydantic V2 style `@model_validator` validators, see the migration guide for more details. Deprecated in Pydantic V2.0 to be removed in V3.0. See Pydantic V2 Migration Guide at https://errors.pydantic.dev/2.6/migration/\n",
      "  @root_validator(pre=True)\n",
      "/home/capstoners/DuRAG/.venv/lib/python3.11/site-packages/litellm/proxy/_types.py:492: PydanticDeprecatedSince20: Pydantic V1 style `@root_validator` validators are deprecated. You should migrate to Pydantic V2 style `@model_validator` validators, see the migration guide for more details. Deprecated in Pydantic V2.0 to be removed in V3.0. See Pydantic V2 Migration Guide at https://errors.pydantic.dev/2.6/migration/\n",
      "  @root_validator(pre=True)\n",
      "/home/capstoners/DuRAG/.venv/lib/python3.11/site-packages/litellm/proxy/_types.py:513: PydanticDeprecatedSince20: Pydantic V1 style `@root_validator` validators are deprecated. You should migrate to Pydantic V2 style `@model_validator` validators, see the migration guide for more details. Deprecated in Pydantic V2.0 to be removed in V3.0. See Pydantic V2 Migration Guide at https://errors.pydantic.dev/2.6/migration/\n",
      "  @root_validator(pre=True)\n",
      "/home/capstoners/DuRAG/.venv/lib/python3.11/site-packages/pydantic/_internal/_generate_schema.py:637: PydanticDeprecatedSince20: `__get_validators__` is deprecated and will be removed, use `__get_pydantic_core_schema__` instead. Deprecated in Pydantic V2.0 to be removed in V3.0. See Pydantic V2 Migration Guide at https://errors.pydantic.dev/2.6/migration/\n",
      "  warn(\n"
     ]
    },
    {
     "name": "stdout",
     "output_type": "stream",
     "text": [
      "✅ In Groundedness, input source will be set to __record__.main_input or `Select.RecordInput` .\n",
      "✅ In Groundedness, input statement will be set to __record__.main_output or `Select.RecordOutput` .\n",
      "✅ In Context Relevance, input question will be set to __record__.main_input or `Select.RecordInput` .\n",
      "✅ In Context Relevance, input statement will be set to __record__.main_output or `Select.RecordOutput` .\n",
      "✅ In Answer Relevance, input prompt will be set to __record__.main_input or `Select.RecordInput` .\n",
      "✅ In Answer Relevance, input response will be set to __record__.main_output or `Select.RecordOutput` .\n",
      "Question: How many people are there on the LREITs board of directors 2023? \n",
      "----------------------------------------------------------------------------------------------------\n",
      "Sentence Window response: \n",
      "\n",
      "\n",
      "----------------------------------------------------------------------------------------------------\n",
      "((_WeaviateUUIDInt('51d532a1-81ec-5476-9b88-ca29131d87d5'), 'Represent this sentence for searching relevant passages: How many people are there on the LREITs board of directors 2023? ', 'Non-Executive   Director; and   Ms Sharon Lim, Executive   Director and CEO.\\n•\\n•\\n•\\n•\\n•\\n•\\n•\\n•\\n•\\n•\\n•\\n•\\nPost-Merger, the Board was reconstituted to comprise certain members from the Manager (formerly known as Mapletree Commercial Trust Management Ltd.) and Mapletree North Asia Commercial Trust Management Ltd. to provide assurance of continuity to Unitholders and achieve an optimal balance of experience, skills and knowledge relevant to the merged entity’s business. As at 31 March 2023, the Board comprises fourteen directors (the “Directors”), of whom thirteen are Non-Executive Directors and ten are Independent Directors. The following sets out the composition of the Board:\\n\\n•   Mr Samuel Tsien, Non-Executive   Chairman and Director;   Ms Tan Su Shan, Lead   Independent Non-Executive   Director and Chairperson of   the NRC;   Mr Premod Thomas,   Independent Non-Executive   Director and Chairman of   the AC;   Ms Lilian Chiang, Independent   Non-Executive Director and   Member of the NRC; Independent   Non-Executive Director and   Member of the NRC;   Mr Kan Shik Lum, Independent   Non-Executive Director and   Member of the NRC;   Mr Chua Kim Chiu, Independent   Non-Executive Director and   Member of the AC;   Mr Lawrence Wong, Independent   Non-Executive Director and   Member of the AC;   Mr Wu Long Peng, Independent   Non-Executive Director and   Member of the AC;   Mr Pascal Lambert, Independent   Non-Executive Director;'), -2.439453125)\n",
      "----------------------------------------------------------------------------------------------------\n",
      "((_WeaviateUUIDInt('12e77cdc-0f9f-5c8f-9a99-0c5b25177d9d'), 'Represent this sentence for searching relevant passages: How many people are there on the LREITs board of directors 2023? ', 'CORPORATE GOVERNANCE REPORT\\n企業管治報告\\nThe Company recognizes the value and importance of achieving high standard of corporate governance to enhance the corporate performance accountability and is committed to doing so. To the best knowledge and belief of the Directors, the Company has complied with the applicable code provisions of the Corporate Governance Code (the “CG Code”) as set out in Appendix 14 to the Listing Rules during the Year. The Board of Directors\\nBoard Composition\\nAs at 31 March 2023, the Board comprises twelve Directors, including five Executive Directors, three Non-Executive Directors and four Independent Non-Executive Directors.\\nMs. Li Aihua and Ms. Deng Jin have been appointed as Non-Executive Directors, and Dr. Li Xu has been appointed as Independent Non-Executive Director with effect from 16 May 2023. Since then, the Board comprises fifteen Directors, including five of each of Executive Directors, Non- Executive Directors and Independent Non-Executive Directors. The brief biographical details of the Directors are set out in the section headed “Biographical Details of the Directors and Key Management” on pages 58 to 69 of this annual report.\\nIndependent Non-Executive Director\\nDuring the Year, the Board has at all times met the requirements of Rules 3.10(1), 3.10(2) and 3.10A of the Listing Rules relating to the appointment of at least three Independent Non-Executive Directors and representing at least one-third of the board with at least one Independent Non-Executive Director possessing appropriate professional qualifications, or accounting or related financial management expertise.'), -3.130859375)\n",
      "----------------------------------------------------------------------------------------------------\n",
      "((_WeaviateUUIDInt('8b49ca50-a8bf-5c1c-be30-310c079f92e1'), 'Represent this sentence for searching relevant passages: How many people are there on the LREITs board of directors 2023? ', 'BOARD STATEMENT by resetting its baseline year to FY2022 and set 5-year environmental targets.\\nThe Board of Directors (the “Board”) is pleased to present Lendlease Global Commercial REIT’s (“LREIT”) fourth Sustainability Report (“SR”) in FY2023 to reinforce LREIT’s commitment towards environmental sustainability and contributions to the community. This report showcases initiatives the Manager and Property Manager implemented within LREIT\\'s portfolio and the progress towards its sustainability targets. The Manager aligns its values and LREIT\\'s targets with Lendlease and its subsidiaries (the “Group”) to build resilience in LREIT\\'s business operations and ensure long-term success. The Board, supported by the CEO and Sustainability Working Committee (“SWC”), is responsible for LREIT’s sustainability strategy, performance and reporting. LREIT commits to actions outlined in the Group\\'s Responsible Property Investment (\"RPI\") Policy statement, including the Group\\'s Mission Zero targets of Net Zero Carbon (Scope 1 and 2) in operation by FY2025 and Absolute Zero Carbon (Scope 1, 2 and 3) by FY2040 through collaboration with tenants. In FY2023, LREIT achieved Net Zero Carbon (Scope 1 and 2) ahead of the FY2025 target.'), -4.12890625)\n",
      "Generated Answer: \n",
      "There is not enough information to answer the question.\n",
      "\n",
      "Evaluation: \n",
      "{'statement_0': 0.0} {'reasons': 'Statement Sentence: There is not enough information to answer the question.\\nSupporting Evidence: NOTHING FOUND\\nScore: 0'}\n"
     ]
    },
    {
     "name": "stderr",
     "output_type": "stream",
     "text": [
      "/usr/lib/python3.11/ast.py:50: ResourceWarning: unclosed <socket.socket fd=64, family=10, type=1, proto=6, laddr=('::1', 46992, 0, 0), raddr=('::1', 8080, 0, 0)>\n",
      "  return compile(source, filename, mode, flags,\n",
      "ResourceWarning: Enable tracemalloc to get the object allocation traceback\n",
      "\n",
      "KeyboardInterrupt\n",
      "\n"
     ]
    }
   ],
   "source": [
    "# %load pipeline_eval.py\n",
    "from rag_swr import swr_pipeline\n",
    "from rag_amr import amr_pipeline\n",
    "from src.eval.rag_eval import RAGeval\n",
    "from src.rds import db\n",
    "import argparse \n",
    "import os\n",
    "os.environ['GOOGLE_APPLICATION_CREDENTIALS'] = 'arched-forest-409209-854f83e41ed5.json'\n",
    "\n",
    "def parse_args():\n",
    "    parser = argparse.ArgumentParser()\n",
    "    parser.add_argument(\"--retrieval\", type=str, required=True)\n",
    "    return parser.parse_args()\n",
    "\n",
    "\n",
    "\n",
    "\n",
    "evaluation = RAGeval()\n",
    "\n",
    "with db.get_cursor() as cur:\n",
    "    cur.execute(\"\"\"SELECT question, pdf_document_name FROM \"QUESTION_BANK\" \"\"\")\n",
    "    questions = cur.fetchall()\n",
    "   \n",
    "    pipeline = swr_pipeline\n",
    "    eval_table = \"chunked_128_sentence_window\"\n",
    "    eval_dict = {\n",
    "            \"groundness_score\": 0,\n",
    "            \"answer_relevance_score\": 0,\n",
    "            \"context_relevance_score\": 0,\n",
    "        }\n",
    "    \n",
    "    for i,(query, pdf_name) in enumerate(questions):\n",
    "        print(\"Question: \"+ query)\n",
    "        print(\"-\" * 100)\n",
    "        response, retrieved = pipeline(query)\n",
    "        retrieved_text = ''.join([retrieved[i][0][2] for i in range(len(retrieved))])\n",
    "        # docs = []\n",
    "        # for r in retrieved:\n",
    "        #     print(r[0][0])\n",
    "        #     cur.execute(\"\"\"SELECT pdf_document_name FROM chunked_128_sentence_window WHERE chunk_id = %s\"\"\", (str(r[0][0]),))\n",
    "        #     doc = cur.fetchall()\n",
    "        #     docs.extend(doc)\n",
    "        \n",
    "        print(\"Evaluation: \")\n",
    "        eval_object = {'question':q[0],\n",
    "               'context':retrieved_text,\n",
    "               'generated':response }\n",
    "\n",
    "        out = evaluation.assess_single_retrieval(**eval_object)\n",
    "        eval_dict['groundness_score'] += out['groundness_score']\n",
    "        eval_dict['answer_relevance_score']+= out['answer_relevance_score']\n",
    "        eval_dict['context_relevance_score']+= out['context_relevance_score']\n",
    "\n",
    "        print('context_relevance_score',eval_dict['context_relevance_score']/(i+1))\n",
    "        print('answer_relevance_score',eval_dict['answer_relevance_score']/(i+1))\n",
    "        print('groundness_score',eval_dict['groundness_score']/(i+1))\n",
    "        \n",
    "        \n",
    "\n",
    "                \n",
    "\n",
    "\n",
    "        \n",
    "\n"
   ]
  },
  {
   "cell_type": "code",
   "execution_count": null,
   "id": "98a400c7-4ee6-4f79-aa02-23aab0146499",
   "metadata": {},
   "outputs": [],
   "source": [
    "eval_dict = {\n",
    "            \"groundness_score\": 0,\n",
    "            \"answer_relevance_score\": 0,\n",
    "            \"context_relevance_score\": 0,\n",
    "        }"
   ]
  },
  {
   "cell_type": "code",
   "execution_count": null,
   "id": "1674fcfe-9e28-4086-b53a-0601cc464497",
   "metadata": {},
   "outputs": [],
   "source": [
    "BGE_QUERY_PREFIX = \"Represent this sentence for searching relevant passages: \"\n",
    "client = weaviate.connect_to_local()\n",
    "reranker = Reranker()\n",
    "swr_engine = SentenceWindowRetriever(client)\n",
    "query = (\n",
    "    BGE_QUERY_PREFIX\n",
    "    + query\n",
    ")\n",
    "retrieval_response = swr_engine.hybrid_search(query, filters=None, limit=10)\n",
    "# print(\"*\" * 100)\n",
    "# print(\"Retrieval response: \\n\\n\")\n",
    "# print(swr_engine.chunk_text_joiner_response(retrieval_response.objects))\n",
    "# print(\"*\" * 100)\n",
    "# retrieval_response = swr_engine.full_text_search(query, filters=None, limit=10)\n",
    "# retrieval_response = swr_engine.semantic_search(query, filters=None, limit=10)\n",
    "sentence_windows = swr_engine.get_sentence_windows(retrieval_response.objects)"
   ]
  },
  {
   "cell_type": "code",
   "execution_count": 13,
   "id": "7d7bf425-18bd-4b13-8c02-d11447a9e2d9",
   "metadata": {},
   "outputs": [
    {
     "name": "stdout",
     "output_type": "stream",
     "text": [
      "Sentence Window response: \n",
      "\n",
      "\n",
      "----------------------------------------------------------------------------------------------------\n",
      "((_WeaviateUUIDInt('51d532a1-81ec-5476-9b88-ca29131d87d5'), 'Represent this sentence for searching relevant passages: How many people are there on the LREITs board of directors 2023? ', 'Non-Executive   Director; and   Ms Sharon Lim, Executive   Director and CEO.\\n•\\n•\\n•\\n•\\n•\\n•\\n•\\n•\\n•\\n•\\n•\\n•\\nPost-Merger, the Board was reconstituted to comprise certain members from the Manager (formerly known as Mapletree Commercial Trust Management Ltd.) and Mapletree North Asia Commercial Trust Management Ltd. to provide assurance of continuity to Unitholders and achieve an optimal balance of experience, skills and knowledge relevant to the merged entity’s business. As at 31 March 2023, the Board comprises fourteen directors (the “Directors”), of whom thirteen are Non-Executive Directors and ten are Independent Directors. The following sets out the composition of the Board:\\n\\n•   Mr Samuel Tsien, Non-Executive   Chairman and Director;   Ms Tan Su Shan, Lead   Independent Non-Executive   Director and Chairperson of   the NRC;   Mr Premod Thomas,   Independent Non-Executive   Director and Chairman of   the AC;   Ms Lilian Chiang, Independent   Non-Executive Director and   Member of the NRC; Independent   Non-Executive Director and   Member of the NRC;   Mr Kan Shik Lum, Independent   Non-Executive Director and   Member of the NRC;   Mr Chua Kim Chiu, Independent   Non-Executive Director and   Member of the AC;   Mr Lawrence Wong, Independent   Non-Executive Director and   Member of the AC;   Mr Wu Long Peng, Independent   Non-Executive Director and   Member of the AC;   Mr Pascal Lambert, Independent   Non-Executive Director;'), -2.439453125)\n",
      "----------------------------------------------------------------------------------------------------\n",
      "((_WeaviateUUIDInt('12e77cdc-0f9f-5c8f-9a99-0c5b25177d9d'), 'Represent this sentence for searching relevant passages: How many people are there on the LREITs board of directors 2023? ', 'CORPORATE GOVERNANCE REPORT\\n企業管治報告\\nThe Company recognizes the value and importance of achieving high standard of corporate governance to enhance the corporate performance accountability and is committed to doing so. To the best knowledge and belief of the Directors, the Company has complied with the applicable code provisions of the Corporate Governance Code (the “CG Code”) as set out in Appendix 14 to the Listing Rules during the Year. The Board of Directors\\nBoard Composition\\nAs at 31 March 2023, the Board comprises twelve Directors, including five Executive Directors, three Non-Executive Directors and four Independent Non-Executive Directors.\\nMs. Li Aihua and Ms. Deng Jin have been appointed as Non-Executive Directors, and Dr. Li Xu has been appointed as Independent Non-Executive Director with effect from 16 May 2023. Since then, the Board comprises fifteen Directors, including five of each of Executive Directors, Non- Executive Directors and Independent Non-Executive Directors. The brief biographical details of the Directors are set out in the section headed “Biographical Details of the Directors and Key Management” on pages 58 to 69 of this annual report.\\nIndependent Non-Executive Director\\nDuring the Year, the Board has at all times met the requirements of Rules 3.10(1), 3.10(2) and 3.10A of the Listing Rules relating to the appointment of at least three Independent Non-Executive Directors and representing at least one-third of the board with at least one Independent Non-Executive Director possessing appropriate professional qualifications, or accounting or related financial management expertise.'), -3.130859375)\n",
      "----------------------------------------------------------------------------------------------------\n",
      "((_WeaviateUUIDInt('8b49ca50-a8bf-5c1c-be30-310c079f92e1'), 'Represent this sentence for searching relevant passages: How many people are there on the LREITs board of directors 2023? ', 'BOARD STATEMENT by resetting its baseline year to FY2022 and set 5-year environmental targets.\\nThe Board of Directors (the “Board”) is pleased to present Lendlease Global Commercial REIT’s (“LREIT”) fourth Sustainability Report (“SR”) in FY2023 to reinforce LREIT’s commitment towards environmental sustainability and contributions to the community. This report showcases initiatives the Manager and Property Manager implemented within LREIT\\'s portfolio and the progress towards its sustainability targets. The Manager aligns its values and LREIT\\'s targets with Lendlease and its subsidiaries (the “Group”) to build resilience in LREIT\\'s business operations and ensure long-term success. The Board, supported by the CEO and Sustainability Working Committee (“SWC”), is responsible for LREIT’s sustainability strategy, performance and reporting. LREIT commits to actions outlined in the Group\\'s Responsible Property Investment (\"RPI\") Policy statement, including the Group\\'s Mission Zero targets of Net Zero Carbon (Scope 1 and 2) in operation by FY2025 and Absolute Zero Carbon (Scope 1, 2 and 3) by FY2040 through collaboration with tenants. In FY2023, LREIT achieved Net Zero Carbon (Scope 1 and 2) ahead of the FY2025 target.'), -4.12890625)\n",
      "Generated Answer: \n",
      "There is not enough information to answer the question.\n",
      "\n"
     ]
    }
   ],
   "source": [
    "response, retrieved = pipeline(q[0])"
   ]
  },
  {
   "cell_type": "code",
   "execution_count": null,
   "id": "39efb8e7-e3a7-45f0-8c8d-9a9aa3e29380",
   "metadata": {},
   "outputs": [],
   "source": []
  }
 ],
 "metadata": {
  "kernelspec": {
   "display_name": "Python 3 (ipykernel)",
   "language": "python",
   "name": "python3"
  },
  "language_info": {
   "codemirror_mode": {
    "name": "ipython",
    "version": 3
   },
   "file_extension": ".py",
   "mimetype": "text/x-python",
   "name": "python",
   "nbconvert_exporter": "python",
   "pygments_lexer": "ipython3",
   "version": "3.11.5"
  }
 },
 "nbformat": 4,
 "nbformat_minor": 5
}
